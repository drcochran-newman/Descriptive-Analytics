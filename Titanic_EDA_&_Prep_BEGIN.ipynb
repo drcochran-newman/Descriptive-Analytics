{
 "cells": [
  {
   "cell_type": "markdown",
   "metadata": {},
   "source": [
    "# Titanic EDA & Prep \n",
    "**Your Name**\n",
    "\n",
    "Using the Titanic dataset from [this](https://www.kaggle.com/c/titanic/overview) Kaggle competition.\n",
    "\n",
    "Fields include:\n",
    "\n",
    "- **Name** (str) - Name of the passenger\n",
    "- **Pclass** (int) - Ticket class\n",
    "- **Sex** (str) - Sex of the passenger\n",
    "- **Age** (float) - Age in years\n",
    "- **SibSp** (int) - Number of siblings and spouses aboard\n",
    "- **Parch** (int) - Number of parents and children aboard\n",
    "- **Ticket** (str) - Ticket number\n",
    "- **Fare** (float) - Ticket price paid\n",
    "- **Cabin** (str) - Cabin number\n",
    "- **Embarked** (str) - Port of embarkation (C = Cherbourg, Q = Queenstown, S = Southampton)"
   ]
  },
  {
   "cell_type": "markdown",
   "metadata": {},
   "source": [
    "## Import Libraries & Set Default Plot Attributes"
   ]
  },
  {
   "cell_type": "code",
   "execution_count": null,
   "metadata": {},
   "outputs": [],
   "source": [
    "import numpy as np\n",
    "import pandas as pd\n",
    "import matplotlib.pyplot as plt\n",
    "import seaborn as sns\n",
    "%matplotlib inline"
   ]
  },
  {
   "cell_type": "code",
   "execution_count": null,
   "metadata": {},
   "outputs": [],
   "source": [
    "# Customize seaborn plot styles\n",
    "# Seaborn docs: https://seaborn.pydata.org/tutorial/aesthetics.html\n",
    "\n",
    "# Adjust to retina quality\n",
    "import matplotlib_inline.backend_inline\n",
    "matplotlib_inline.backend_inline.set_matplotlib_formats(\"retina\")\n",
    "\n",
    "# Adjust dpi and font size\n",
    "sns.set(rc={\"figure.dpi\":100, 'savefig.dpi':300})\n",
    "sns.set_context('notebook', font_scale = 0.8)\n",
    "\n",
    "# Display tick marks\n",
    "sns.set_style('ticks')\n",
    "\n",
    "# Remove borders\n",
    "plt.rc('axes.spines', top=False, right=False, left=False, bottom=False)"
   ]
  },
  {
   "cell_type": "code",
   "execution_count": null,
   "metadata": {},
   "outputs": [],
   "source": [
    "# Color palettes for plots\n",
    "# Named colors: https://matplotlib.org/stable/gallery/color/named_colors.html\n",
    "# Seaborn color palette docs: https://seaborn.pydata.org/tutorial/color_palettes.html\n",
    "# Seaborn palette chart: https://www.codecademy.com/article/seaborn-design-ii\n",
    "\n",
    "# cp1 Color Palette - a binary blue/orange palette\n",
    "blue = 'deepskyblue' # Use 'skyblue' for a lighter blue\n",
    "orange = 'orange'\n",
    "cp1 = [blue, orange]\n",
    "\n",
    "# cp2 Color Palette - 5 colors for use with categorical data\n",
    "turquoise = 'mediumaquamarine'\n",
    "salmon = 'darksalmon'\n",
    "tan = 'tan'\n",
    "gray = 'darkgray'\n",
    "cp2 = [blue, turquoise, salmon, tan, gray]\n",
    "\n",
    "# cp3 Color Palette - blue-to-orange diverging palette for correlation heatmaps\n",
    "cp3 = sns.diverging_palette(242, 39, s=100, l=65, n=11)\n",
    "\n",
    "# Set the default palette\n",
    "sns.set_palette(cp1)"
   ]
  },
  {
   "cell_type": "code",
   "execution_count": null,
   "metadata": {},
   "outputs": [],
   "source": [
    "# View cp1 color palette\n",
    "sns.palplot(cp1)"
   ]
  },
  {
   "cell_type": "code",
   "execution_count": null,
   "metadata": {},
   "outputs": [],
   "source": [
    "# View cp2 color palette\n",
    "sns.palplot(cp2)"
   ]
  },
  {
   "cell_type": "code",
   "execution_count": null,
   "metadata": {},
   "outputs": [],
   "source": [
    "# View cp3 color palette\n",
    "sns.palplot(cp3)"
   ]
  },
  {
   "cell_type": "markdown",
   "metadata": {},
   "source": [
    "## Read and Review Data"
   ]
  },
  {
   "cell_type": "code",
   "execution_count": null,
   "metadata": {},
   "outputs": [],
   "source": [
    "df = pd.read_csv('data/titanic.csv')\n",
    "df.head(10)"
   ]
  },
  {
   "cell_type": "code",
   "execution_count": null,
   "metadata": {},
   "outputs": [],
   "source": [
    "# View dataframe fundamentals\n",
    "df.info()"
   ]
  },
  {
   "cell_type": "markdown",
   "metadata": {},
   "source": [
    "# Drop irrelevant columns\n",
    "These appear irrelevant to predicting survival:\n",
    "- PassengerId\n",
    "- Name\n",
    "- Ticket"
   ]
  },
  {
   "cell_type": "code",
   "execution_count": null,
   "metadata": {},
   "outputs": [],
   "source": [
    "df.drop(['PassengerId','Name','Ticket'], axis=1, inplace=True)\n",
    "\n",
    "# Preview the updated dataframe\n",
    "df.head()"
   ]
  },
  {
   "cell_type": "markdown",
   "metadata": {},
   "source": [
    "# Explore Numeric Features\n",
    "\n",
    "- **Survived** is binary: 1 = yes; 0 = no --> but it is the target variable, so we will keep it for exploration with the continuous features\n",
    "- **Pclass** is ordinal: 1st, 2nd, 3rd classes\n",
    "- **Age** is continuous with integer values\n",
    "- **SibSp** is ordinal, because a very small range: 1, 2, 3, etc. siblings or spouses\n",
    "- **Parch** is ordinal, because a very small range: 1, 2, 3, etc. parents or children \n",
    "- **Fare** is continuous with float values"
   ]
  },
  {
   "cell_type": "code",
   "execution_count": null,
   "metadata": {},
   "outputs": [],
   "source": [
    "# Store numeric features to a variable for easy re-use\n",
    "cont = ['Survived', 'Pclass', 'Age', 'SibSp', 'Parch', 'Fare']\n",
    "\n",
    "# Test our new variable as a filter to preview only those columns\n",
    "df[cont].head()"
   ]
  },
  {
   "cell_type": "code",
   "execution_count": null,
   "metadata": {},
   "outputs": [],
   "source": [
    "# View summary statistics for these continuous features\n",
    "df[cont].describe()"
   ]
  },
  {
   "cell_type": "markdown",
   "metadata": {},
   "source": [
    "**Observations**\n",
    "- 38.3% of passengers survived\n",
    "- The majority of passengers were in 2nd or 3rd class.\n",
    "- The average age was 29. The youngest was under a year. The oldest was 80.\n",
    "- Most passengers had no sibling or spouse aboard, and no parent-child relationship.\n",
    "- Median fare was 14, while the highest was 512."
   ]
  },
  {
   "cell_type": "markdown",
   "metadata": {},
   "source": [
    "### Did survivors' stats for these features differ markedly from non-survivors'?\n",
    "Let's compare the mean values for these features for these groups."
   ]
  },
  {
   "cell_type": "code",
   "execution_count": null,
   "metadata": {},
   "outputs": [],
   "source": [
    "# Compare mean values for these features, grouped by Survived\n",
    "df[cont].groupby('Survived').mean()"
   ]
  },
  {
   "cell_type": "markdown",
   "metadata": {},
   "source": [
    "**Observations:**\n",
    "- Pclass: survivors tended to be upper class (1st or 2nd)\n",
    "- Age: survivors were slightly younger in average age\n",
    "- SubSp: survivors averaged fewer siblings\n",
    "- Parch: survivors averaged slightly higher parent/child relations\n",
    "- Fare: average survivors paid more than twice the ticket price of non-survivors"
   ]
  },
  {
   "cell_type": "markdown",
   "metadata": {},
   "source": [
    "### Investigate impact of null values for Age"
   ]
  },
  {
   "cell_type": "code",
   "execution_count": null,
   "metadata": {},
   "outputs": [],
   "source": [
    "# How many null values for Age?\n",
    "df['Age'].isnull().sum()"
   ]
  },
  {
   "cell_type": "markdown",
   "metadata": {},
   "source": [
    "Did those with null for age have a different survival rate?"
   ]
  },
  {
   "cell_type": "code",
   "execution_count": null,
   "metadata": {},
   "outputs": [],
   "source": [
    "df[cont].groupby(df[cont]['Age'].isnull()).mean()"
   ]
  },
  {
   "cell_type": "markdown",
   "metadata": {},
   "source": [
    "On average, those with null values for age: \n",
    "- had a 10.7% lower chance of surviving\n",
    "- were in 2nd or 3rd passenger classes\n",
    "- were significantly less likely to have a parent or child on board\n",
    "- paid significantly lower ticket prices"
   ]
  },
  {
   "cell_type": "markdown",
   "metadata": {},
   "source": [
    "## Age Distributions\n",
    "Compare age distributions for survivors and non-survivors"
   ]
  },
  {
   "cell_type": "code",
   "execution_count": null,
   "metadata": {},
   "outputs": [],
   "source": [
    "# Histogram: Age Distribution Comparisons by Survival\n",
    "plt.title(\"Age Distributions Comparison\", fontsize=14, fontweight='bold')\n",
    "ax = sns.histplot(data=df, x='Age', hue='Survived', binwidth=5, alpha=0.7);\n",
    "# ax.set(xlabel = 'Custom x axis label', ylabel='Custom y axis label');"
   ]
  },
  {
   "cell_type": "markdown",
   "metadata": {},
   "source": [
    "**Interpretation:**\n",
    "The age distributions for both survivors (1) and non-survivors (0) are very similar _except_ very young passengers (ages 0-5) and young teens were more likely to survive than not."
   ]
  },
  {
   "cell_type": "code",
   "execution_count": null,
   "metadata": {
    "scrolled": false
   },
   "outputs": [],
   "source": [
    "# Horizontal Boxplot: Comparing Age Distributions by Survival\n",
    "plt.title(\"Age Distributions Comparison\", fontsize=14, fontweight='bold')\n",
    "ax = sns.boxplot(data=df, x='Age', y='Survived', orient='h');\n",
    "# ax.set(xlabel = 'Custom x axis label', ylabel='Custom y axis label');"
   ]
  },
  {
   "cell_type": "markdown",
   "metadata": {},
   "source": [
    "**Interpretation:** The box plots show more clearly that most survivors were slightly younger than non-survivors."
   ]
  },
  {
   "cell_type": "markdown",
   "metadata": {},
   "source": [
    "## Fare Distributions\n",
    "Is there a pattern to survival rates by ticket price?"
   ]
  },
  {
   "cell_type": "code",
   "execution_count": null,
   "metadata": {},
   "outputs": [],
   "source": [
    "# Histogram: Fare Distribution Comparisons by Survival\n",
    "plt.title(\"Fare Distributions Comparison\", fontsize=14, fontweight='bold')\n",
    "ax = sns.histplot(data=df, x='Fare', hue='Survived', binwidth=25, alpha=0.7);\n",
    "# ax.set(xlabel = 'Custom x axis label', ylabel='Custom y axis label');"
   ]
  },
  {
   "cell_type": "markdown",
   "metadata": {},
   "source": [
    "Those with tickets priced around $40 or more were more likely to survive."
   ]
  },
  {
   "cell_type": "code",
   "execution_count": null,
   "metadata": {
    "scrolled": false
   },
   "outputs": [],
   "source": [
    "# Boxplot: Fare Distributions Comparison by Survival\n"
   ]
  },
  {
   "cell_type": "markdown",
   "metadata": {},
   "source": [
    "### Continuous Variables Summary\n",
    "- **Age** appears somewhat relevant to predicting survival. **177** null values need attention.\n",
    "- **Fare** appears very relevant to predicting survival. Those with a ticket priced at $40 or greater were more likely to survive than not."
   ]
  },
  {
   "cell_type": "markdown",
   "metadata": {},
   "source": [
    "# Explore Ordinal Features\n",
    "Pclass, SibSp, and Parch are more accurately considered ordinal variables, so let's explore those here.\n",
    "\n",
    "- **Pclass:** passenger class ranges from 1st to 3rd\n",
    "- **SibSp:** Sibling and Spouse relationships range from 1 to 8\n",
    "- **Parch:** Parent child relationships range from 1 to 6"
   ]
  },
  {
   "cell_type": "code",
   "execution_count": null,
   "metadata": {},
   "outputs": [],
   "source": [
    "# Create variable to hold ordinal features, plus Survived\n",
    "ord = ['Survived','Pclass','SibSp','Parch']\n",
    "\n",
    "# View summary stats\n",
    "df[ord].describe()"
   ]
  },
  {
   "cell_type": "markdown",
   "metadata": {},
   "source": [
    "Compare the mean values for survivors and non-survivors"
   ]
  },
  {
   "cell_type": "code",
   "execution_count": null,
   "metadata": {},
   "outputs": [],
   "source": [
    "df[ord].groupby('Survived').mean()"
   ]
  },
  {
   "cell_type": "markdown",
   "metadata": {},
   "source": [
    "**Interpretation:**\n",
    "- Survivors tended to be first or second class.\n",
    "- Survivors averaged slightly fewer siblings and/or spouses.\n",
    "- Survivors averaged slightly more parent-child relationships."
   ]
  },
  {
   "cell_type": "markdown",
   "metadata": {},
   "source": [
    "### Explore Pclass"
   ]
  },
  {
   "cell_type": "code",
   "execution_count": null,
   "metadata": {
    "scrolled": false
   },
   "outputs": [],
   "source": [
    "# Countplot comparing survivors vs. non-survivors by Pclass\n",
    "plt.title(\"Pclass Survival Comparisons\", fontsize=14, fontweight='bold')\n",
    "ax = sns.countplot(data=df, x='Pclass', hue='Survived');\n",
    "# ax.set(xlabel = 'Custom x axis label', ylabel='Custom y axis label');"
   ]
  },
  {
   "cell_type": "code",
   "execution_count": null,
   "metadata": {},
   "outputs": [],
   "source": [
    "# Calculate survival rate by Pclass\n",
    "df['Survived'].groupby(df['Pclass']).mean()"
   ]
  },
  {
   "cell_type": "code",
   "execution_count": null,
   "metadata": {},
   "outputs": [],
   "source": [
    "# Barplot survival rate by Pclass\n",
    "plt.title(\"Pclass Survival Rate\", fontsize=14, fontweight='bold')\n",
    "ax = sns.barplot(data=df, x='Pclass', y='Survived', ci=None, color=blue);\n",
    "# ax.set(xlabel = 'Custom x axis label', ylabel='Custom y axis label');"
   ]
  },
  {
   "cell_type": "markdown",
   "metadata": {},
   "source": [
    "**Interpretation**: Pclass is *highly* relevant to predicting survival, with lower Pclass numbers corresponding with higher survival probability."
   ]
  },
  {
   "cell_type": "markdown",
   "metadata": {},
   "source": [
    "### Explore Sibsp"
   ]
  },
  {
   "cell_type": "code",
   "execution_count": null,
   "metadata": {},
   "outputs": [],
   "source": [
    "# SibSp countplot for survival comparisons"
   ]
  },
  {
   "cell_type": "code",
   "execution_count": null,
   "metadata": {},
   "outputs": [],
   "source": [
    "# Calculate survival rate by SibSp"
   ]
  },
  {
   "cell_type": "code",
   "execution_count": null,
   "metadata": {
    "scrolled": false
   },
   "outputs": [],
   "source": [
    "# Barplot survival rate by SibSp"
   ]
  },
  {
   "cell_type": "markdown",
   "metadata": {},
   "source": [
    "**Interpretation:** \n",
    "- Add your interpretation here."
   ]
  },
  {
   "cell_type": "markdown",
   "metadata": {},
   "source": [
    "### Explore Parch"
   ]
  },
  {
   "cell_type": "code",
   "execution_count": null,
   "metadata": {},
   "outputs": [],
   "source": [
    "# Countplot comparing survived vs non-survived for Parch"
   ]
  },
  {
   "cell_type": "code",
   "execution_count": null,
   "metadata": {},
   "outputs": [],
   "source": [
    "# Calculate survival rate by Parch"
   ]
  },
  {
   "cell_type": "code",
   "execution_count": null,
   "metadata": {},
   "outputs": [],
   "source": [
    "# Barplot survival rate by Parch"
   ]
  },
  {
   "cell_type": "markdown",
   "metadata": {},
   "source": [
    "**Interpretation:**\n",
    "- Add your interpretation."
   ]
  },
  {
   "cell_type": "markdown",
   "metadata": {},
   "source": [
    "# Clean Numeric Data"
   ]
  },
  {
   "cell_type": "markdown",
   "metadata": {},
   "source": [
    "### Fill Nulls for Age with Average Age"
   ]
  },
  {
   "cell_type": "code",
   "execution_count": null,
   "metadata": {},
   "outputs": [],
   "source": [
    "# Follow Jedamski's Cleaning Continuous Variables video.\n",
    "# Replace these comments with your own and code.\n",
    "# Add new cells as needed."
   ]
  },
  {
   "cell_type": "markdown",
   "metadata": {},
   "source": [
    "### Create `Family_count` from `SibSp` and `Parch`\n",
    "Reduce [multicollinearity](https://www.investopedia.com/terms/m/multicollinearity.asp) and enhance the data modeling by combining SibSp and Parch into one variable, the sum of SibSp + Parch."
   ]
  },
  {
   "cell_type": "code",
   "execution_count": null,
   "metadata": {},
   "outputs": [],
   "source": [
    "# Create Family_count\n",
    "# Add new cells as needed."
   ]
  },
  {
   "cell_type": "markdown",
   "metadata": {},
   "source": [
    "### Explore the new `Family_count` variable"
   ]
  },
  {
   "cell_type": "code",
   "execution_count": null,
   "metadata": {},
   "outputs": [],
   "source": [
    "# Countplot comparing survived vs. non for Family_count"
   ]
  },
  {
   "cell_type": "code",
   "execution_count": null,
   "metadata": {},
   "outputs": [],
   "source": [
    "# Barplot comparing average survival rate by Family_count"
   ]
  },
  {
   "cell_type": "markdown",
   "metadata": {},
   "source": [
    "**Intepretation:** \n",
    "- Add your interpretation here."
   ]
  },
  {
   "cell_type": "markdown",
   "metadata": {},
   "source": [
    "### Drop `SibSp` & `Parch`\n",
    "- These are now redundant with `Family_count`.\n",
    "- We need to remove them to avoid a [multicollinearity](https://www.investopedia.com/terms/m/multicollinearity.asp) problem."
   ]
  },
  {
   "cell_type": "code",
   "execution_count": null,
   "metadata": {},
   "outputs": [],
   "source": [
    "# Add cells as needed."
   ]
  },
  {
   "cell_type": "markdown",
   "metadata": {},
   "source": [
    "# Explore Categorical Features"
   ]
  },
  {
   "cell_type": "code",
   "execution_count": null,
   "metadata": {},
   "outputs": [],
   "source": [
    "# Create a variable to hold our categorical features, plus Survived as the target variable\n",
    "cat = ['Survived','Sex','Cabin','Embarked']\n",
    "df[cat].head()"
   ]
  },
  {
   "cell_type": "code",
   "execution_count": null,
   "metadata": {},
   "outputs": [],
   "source": [
    "# View informational summary of these categorical features\n",
    "df[cat].info()"
   ]
  },
  {
   "cell_type": "code",
   "execution_count": null,
   "metadata": {},
   "outputs": [],
   "source": [
    "# Add remaining cells as needed to explore and clean the categorical features."
   ]
  }
 ],
 "metadata": {
  "kernelspec": {
   "display_name": "Python 3 (ipykernel)",
   "language": "python",
   "name": "python3"
  },
  "language_info": {
   "codemirror_mode": {
    "name": "ipython",
    "version": 3
   },
   "file_extension": ".py",
   "mimetype": "text/x-python",
   "name": "python",
   "nbconvert_exporter": "python",
   "pygments_lexer": "ipython3",
   "version": "3.9.7"
  }
 },
 "nbformat": 4,
 "nbformat_minor": 2
}
